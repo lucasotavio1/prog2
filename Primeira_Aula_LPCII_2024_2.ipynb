{
  "cells": [
    {
      "cell_type": "markdown",
      "metadata": {
        "id": "A7qI4MWO_RK2"
      },
      "source": [
        "# **Por que programar em Python?**\n",
        "\n",
        "* Python é uma linguagem que permite ganhos de produtividade e por isso se torna uma escolha assertiva para competições.\n",
        "* A sintaxe clara e concisa do Python facilita a leitura e escrita de código, permitindo que os desenvolvedores se concentrem mais na lógica do problema do que em detalhes complexos da linguagem.\n",
        "* Além disso, o Python possui uma biblioteca padrão extensa e diversificada, que abrange muitas tarefas comuns, como manipulação de strings, acesso a bancos de dados, manipulação de arquivos e muito mais.\n",
        "* Isso reduz a necessidade de os desenvolvedores escreverem código do zero e acelera o desenvolvimento de projetos.\n",
        "* A filosofia do Python enfatiza a legibilidade do código e a produtividade do desenvolvedor, o que torna a linguagem uma escolha popular para projetos que priorizam entregas rápidas e eficientes.\n",
        "* Python é uma linguagem multiplataforma, o que significa que o código escrito em Python pode ser executado em várias plataformas sem a necessidade de grandes modificações.\n",
        "* Isso permite que os desenvolvedores trabalhem em diferentes sistemas operacionais sem grandes preocupações.\n",
        "* Por fim, Python é frequentemente recomendado como uma das primeiras linguagens de programação para iniciantes, pois sua sintaxe amigável torna o processo de aprendizado mais suave e menos intimidador."
      ]
    },
    {
      "cell_type": "markdown",
      "metadata": {
        "id": "aaqaXDOMNB1q"
      },
      "source": [
        "Observe o programa abaixo, em Linguagem C.\n",
        "\n",
        "\n",
        "\n",
        "```\n",
        "#include <stdio.h>\n",
        "\n",
        "int main() {\n",
        "    int numero, fatorial = 1;\n",
        "\n",
        "    printf(\"Digite um número inteiro para calcular o fatorial: \");\n",
        "    scanf(\"%d\", &numero);\n",
        "\n",
        "    for (int i = 1; i <= numero; i++) {\n",
        "        fatorial *= i;\n",
        "    }\n",
        "\n",
        "    printf(\"O fatorial de %d é %d\\n\", numero, fatorial);\n",
        "\n",
        "    return 0;\n",
        "}\n",
        "\n",
        "```\n",
        "O que faz o programa? Agora observe o mesmo programa em Python e aponte as diferenças.\n"
      ]
    },
    {
      "cell_type": "code",
      "execution_count": null,
      "metadata": {
        "id": "tONXF1yENhES"
      },
      "outputs": [],
      "source": [
        "numero = int(input(\"Digite um número inteiro para calcular o fatorial: \"))\n",
        "fatorial = 1\n",
        "\n",
        "for i in range(1, numero + 1):\n",
        "    fatorial *= i\n",
        "\n",
        "print(f\"O fatorial de {numero} é {fatorial}\")"
      ]
    },
    {
      "cell_type": "markdown",
      "metadata": {
        "id": "euGUGUOaIDVr"
      },
      "source": [
        "Observe o mesmo programa, em Linguagem C, escrito de outra forma.\n",
        "\n",
        "```\n",
        "#include <stdio.h>\n",
        "int fatorial(int n) {\n",
        "  if (n == 0) {\n",
        "    return 1;\n",
        "    } else {\n",
        "        return n * fatorial(n - 1);\n",
        "    }\n",
        "}\n",
        "\n",
        "int main() {\n",
        "    int numero, resultado;\n",
        "\n",
        "    printf(\"Digite um número inteiro para calcular o fatorial: \");\n",
        "    scanf(\"%d\", &numero);\n",
        "\n",
        "    resultado = fatorial(numero);\n",
        "\n",
        "    printf(\"O fatorial de %d é %d\\n\", numero, resultado);\n",
        "\n",
        "    return 0;\n",
        "}\n",
        "```\n",
        "Agora, observe o mesmo programa em Python. Quais são as características e diferenças que mais saltam aos olhos?"
      ]
    },
    {
      "cell_type": "code",
      "execution_count": null,
      "metadata": {
        "id": "P_tw2VD7-V36"
      },
      "outputs": [],
      "source": [
        "def fatorial(n): return 1 if n == 0 else n * fatorial(n - 1)\n",
        "\n",
        "numero = int(input(\"Digite um número inteiro para calcular o fatorial: \"))\n",
        "resultado = fatorial(numero)\n",
        "print(f\"O fatorial de {numero} é {resultado}\")"
      ]
    },
    {
      "cell_type": "markdown",
      "metadata": {
        "id": "p1YB15OHS_nc"
      },
      "source": [
        "# Comparação entre Python e C\n",
        "\n",
        "**Sintaxe:**\n",
        "A Linguagem C usa chaves para delimitar blocos de código, sendo a indentação uma questão de estilo, não afetando a estrutura do código.\n",
        "\n",
        "```\n",
        "if (x > 5) {\n",
        "    printf(\"x é maior que 5\");\n",
        "} else {\n",
        "    printf(\"x é menor ou igual a 5\");\n",
        "}\n",
        "\n",
        "```\n",
        "O Python, por sua vez, é conhecido por sua sintaxe limpa e legível, utilizando indentação significativa (espaços ou tabs) para definir blocos de código em vez de delimitadores como chaves.\n",
        "\n",
        "```\n",
        "if x > 5:\n",
        "    print(\"x é maior que 5\")\n",
        "else:\n",
        "    print(\"x é menor ou igual a 5\")\n",
        "\n",
        "```\n",
        "**Estruturas de Controle:**\n",
        "A Linguagem C oferece estruturas de controle como if-else, loops (for, while e do-while), switch-case e outras. O Python tem uma variedade de estruturas de controle, incluindo if-else, loops (for e while) e outras construções úteis para o controle de fluxo.\n",
        "\n",
        "**Tipos de Dados:**\n",
        "A Linguagem C é  estaticamente tipada, onde o tipo de cada variável é definido em tempo de compilação, permitindo operações entre tipos diferentes sem muitas restrições. A Linguagem C possui tipos de dados básicos como int, float, char, bem como a capacidade de criar estruturas e uniões personalizadas.\n",
        "\n",
        "```\n",
        "int x = 10;\n",
        "char name[] = \"John\";\n",
        "int matriz[] = {1, 2, 3};\n",
        "```\n",
        "Já o Python é uma linguagem dinamicamente tipada, o que significa que o tipo de uma variável é determinado em tempo de execução. Além disso, Python tem uma tipagem forte, o que impede operações entre tipos incompatíveis. Python possui tipos de dados como inteiros, floats, strings, listas, tuplas, dicionários, entre outras.\n",
        "\n",
        "```\n",
        "x = 10\n",
        "name = \"John\"\n",
        "my_list = [1, 2, 3]\n",
        "\n",
        "```\n",
        "\n",
        "Em Linguagem C o comentário é realizado através de //, enquanto no Python utiliza-se #.\n"
      ]
    },
    {
      "cell_type": "markdown",
      "metadata": {
        "id": "m4Vid4mxPOBU"
      },
      "source": [
        "# Meu primeiro programa em Python\n",
        "Geralmente, o primeiro programa de um programador é o famoso Hello Word. Provavelmente no último semestre você se deparou com algo assim:\n",
        "\n",
        "\n",
        "```\n",
        "#include <stdio.h>\n",
        "\n",
        "int main() {\n",
        "    printf(\"Hello, World!\\n\");\n",
        "    return 0;\n",
        "}\n",
        "```\n",
        "\n",
        "A seguir, faça o Hello Word em Python."
      ]
    },
    {
      "cell_type": "code",
      "execution_count": 1,
      "metadata": {
        "id": "hqcZa5Szm2wC"
      },
      "outputs": [
        {
          "name": "stdout",
          "output_type": "stream",
          "text": [
            "Hello, World!\n"
          ]
        }
      ],
      "source": [
        "print(\"Hello, World!\")"
      ]
    },
    {
      "cell_type": "markdown",
      "metadata": {
        "id": "Ln0dQoZsP-fQ"
      },
      "source": [
        "# Traduzindo programas de Linguagem C para Python\n",
        "\n",
        "Traduza os programas a seguir de Linguagem C para Python.\n",
        "\n",
        "1)\n",
        "\n",
        "\n",
        "```\n",
        "#include <stdio.h>\n",
        "\n",
        "int main() {\n",
        "    double num1, num2, num3, media;\n",
        "\n",
        "    printf(\"Digite o primeiro número: \");\n",
        "    scanf(\"%lf\", &num1);\n",
        "\n",
        "    printf(\"Digite o segundo número: \");\n",
        "    scanf(\"%lf\", &num2);\n",
        "\n",
        "    printf(\"Digite o terceiro número: \");\n",
        "    scanf(\"%lf\", &num3);\n",
        "\n",
        "     media = (num1 + num2 + num3) / 3.0;\n",
        "\n",
        "    printf(\"A média dos três números é: %.2lf\\n\", media);\n",
        "\n",
        "    return 0;\n",
        "}\n",
        "\n",
        "```\n",
        "\n"
      ]
    },
    {
      "cell_type": "code",
      "execution_count": 1,
      "metadata": {
        "id": "A1LyXXfQm5YR"
      },
      "outputs": [
        {
          "name": "stdout",
          "output_type": "stream",
          "text": [
            "A média dos três números é: 11338.67\n"
          ]
        }
      ],
      "source": [
        "num1, num2, num3=map(float, input(\"Digite 3 números separados por espaço: \").split())\n",
        "media = (num1 + num2 + num3)/3.0\n",
        "print(f\"A média dos três números é: {media:.2f}\")"
      ]
    },
    {
      "cell_type": "markdown",
      "metadata": {
        "id": "8QHQAgiJSdQy"
      },
      "source": [
        "2)\n",
        "\n",
        "\n",
        "```\n",
        "#include <stdio.h>\n",
        "\n",
        "int main() {\n",
        "    double deposito_inicial, taxa_juros, saldo_atual, total_juros = 0.0;\n",
        "\n",
        "    printf(\"Digite o valor do depósito inicial: \");\n",
        "    scanf(\"%lf\", &deposito_inicial);\n",
        "\n",
        "    printf(\"Digite a taxa de juros (em decimal): \");\n",
        "    scanf(\"%lf\", &taxa_juros);\n",
        "\n",
        "    saldo_atual = deposito_inicial;\n",
        "\n",
        "    printf(\"\\nMês 1 - Saldo: %.2lf\\n\", saldo_atual);\n",
        "\n",
        "    for (int mes = 2; mes <= 24; mes++) {\n",
        "        saldo_atual += saldo_atual * taxa_juros;\n",
        "        total_juros += saldo_atual * taxa_juros;\n",
        "        printf(\"Mês %d - Saldo: %.2lf\\n\", mes, saldo_atual);\n",
        "    }\n",
        "\n",
        "    printf(\"\\nTotal ganho com juros em 24 meses: %.2lf\\n\", total_juros);\n",
        "\n",
        "    return 0;\n",
        "}\n",
        "\n",
        "```\n",
        "\n"
      ]
    },
    {
      "cell_type": "code",
      "execution_count": 3,
      "metadata": {
        "id": "sNE3Biz6m6T9"
      },
      "outputs": [
        {
          "name": "stdout",
          "output_type": "stream",
          "text": [
            "Mês 1 - Saldo: 1250.00\n",
            "Mês 2 - saldo: 390.62\n",
            "Mês 3 - saldo: 878.91\n",
            "Mês 4 - saldo: 1489.26\n",
            "Mês 5 - saldo: 2252.20\n",
            "Mês 6 - saldo: 3205.87\n",
            "Mês 7 - saldo: 4397.96\n",
            "Mês 8 - saldo: 5888.08\n",
            "Mês 9 - saldo: 7750.73\n",
            "Mês 10 - saldo: 10079.03\n",
            "Mês 11 - saldo: 12989.42\n",
            "Mês 12 - saldo: 16627.39\n",
            "Mês 13 - saldo: 21174.87\n",
            "Mês 14 - saldo: 26859.21\n",
            "Mês 15 - saldo: 33964.64\n",
            "Mês 16 - saldo: 42846.42\n",
            "Mês 17 - saldo: 53948.65\n",
            "Mês 18 - saldo: 67826.44\n",
            "Mês 19 - saldo: 85173.67\n",
            "Mês 20 - saldo: 106857.72\n",
            "Mês 21 - saldo: 133962.77\n",
            "Mês 22 - saldo: 167844.09\n",
            "Mês 23 - saldo: 210195.74\n",
            "Mês 24 - saldo: 263135.30\n",
            "Total ganho com juros em 24 meses: 263135.30\n"
          ]
        }
      ],
      "source": [
        "depositoInicial = float(input(\"Digite o valor do depósito inicial: \"))\n",
        "taxaJuros = float(input(\"Digite a taxa de juros (em decimal):  \"))\n",
        "totalJuros = 0.0\n",
        "saldoAtual = depositoInicial\n",
        "print(f\"Mês 1 - Saldo: {saldoAtual:.2f}\")\n",
        "for mes in range (2, 25):\n",
        "    saldoAtual += saldoAtual * taxaJuros\n",
        "    totalJuros += saldoAtual * taxaJuros\n",
        "    print(f\"Mês {mes} - saldo: {totalJuros:.2f}\")\n",
        "print(f\"Total ganho com juros em 24 meses: {totalJuros:.2f}\")"
      ]
    },
    {
      "cell_type": "markdown",
      "metadata": {
        "id": "lmMr3RZQRIsd"
      },
      "source": [
        "\n",
        "3)\n",
        "```\n",
        "#include <stdio.h>\n",
        "\n",
        "int main() {\n",
        "    int n, i, fib, a = 0, b = 1;\n",
        "\n",
        "    printf(\"Digite o valor de 'n' para gerar os primeiros 'n' números da série de Fibonacci: \");\n",
        "    scanf(\"%d\", &n);\n",
        "\n",
        "    printf(\"Os primeiros %d números da série de Fibonacci são:\\n\", n);\n",
        "\n",
        "    for (i = 0; i < n; i++) {\n",
        "        if (i <= 1) {\n",
        "            fib = i;\n",
        "        } else {\n",
        "            fib = a + b;\n",
        "            a = b;\n",
        "            b = fib;\n",
        "        }\n",
        "\n",
        "        printf(\"%d \", fib);\n",
        "    }\n",
        "\n",
        "    printf(\"\\n\");\n",
        "\n",
        "    return 0;\n",
        "}\n",
        "\n",
        "```\n",
        "\n"
      ]
    },
    {
      "cell_type": "code",
      "execution_count": 5,
      "metadata": {
        "id": "zV3SiVJVm7M5"
      },
      "outputs": [
        {
          "name": "stdout",
          "output_type": "stream",
          "text": [
            "Os primeiros 10 números da série Fibonacci são:\n",
            "1\n",
            "1\n",
            "1\n",
            "2\n",
            "3\n",
            "5\n",
            "8\n",
            "13\n",
            "21\n",
            "34\n",
            "\n"
          ]
        }
      ],
      "source": [
        "n=int(input(f\"Digite o valor de 'n' para gerar  os primeiros 'n' números da série Fibonacci: \"))\n",
        "print(f\"Os primeiros {n} números da série Fibonacci são:\")\n",
        "a = 0\n",
        "b = 1\n",
        "for i in range (0, n):\n",
        "    if i <= 1:\n",
        "        fib = 1\n",
        "    else:\n",
        "        fib = a + b\n",
        "        a = b\n",
        "        b = fib\n",
        "    print(f\"{fib}\")\n",
        "print(f\"\")"
      ]
    },
    {
      "cell_type": "markdown",
      "metadata": {
        "id": "6k54frQIWclK"
      },
      "source": [
        "# Entrada e Saída de Dados em Python\n",
        "A função input() é usada para receber dados inseridos pelo usuário durante a execução do programa. Input recebe os valores como string e, portanto, caso você queira que o valor seja transformado em inteiro você deve utilizar a função int (ou float, se possuir ponto flutuante, como em: nota = float(input(\"Digite sua nota em Programação de Computadores I:\"))). Ela aguarda que o usuário insira uma linha de texto e pressione \"Enter\".\n",
        "A função print() é usada para exibir informações na tela do console ou terminal. Ela pode imprimir texto, valores de variáveis e combinações de ambos. Você pode usar formatação de strings para exibir os valores das variáveis de forma mais clara e legível."
      ]
    },
    {
      "cell_type": "code",
      "execution_count": null,
      "metadata": {
        "id": "KPuT8KTAW-Mq"
      },
      "outputs": [],
      "source": [
        "nome = input(\"Digite seu nome: \")\n",
        "idade = int(input(\"Digite sua idade: \"))\n",
        "print(f\"Olá, {nome}! Você tem {idade} anos.\")"
      ]
    },
    {
      "cell_type": "code",
      "execution_count": null,
      "metadata": {
        "id": "1nx_b7VJXDX9"
      },
      "outputs": [],
      "source": [
        "nome = \"Eduardo\"\n",
        "idade = 22\n",
        "print(f\"O nome é {nome} e a idade é {idade}.\")\n"
      ]
    },
    {
      "cell_type": "markdown",
      "metadata": {
        "id": "1aMxMH2kXvj7"
      },
      "source": [
        "# Estruturas de Controle Condicionais\n",
        "O if é a estrutura mais básica de controle condicional. Ele verifica uma condição e executa um bloco de código somente se a condição for verdadeira.\n",
        "O if-else permite que você execute um bloco de código se a condição for verdadeira e outro bloco de código se a condição for falsa.\n",
        "O if-elif-else é útil quando você precisa verificar várias condições sequencialmente. Ele permite que você teste várias condições e execute diferentes blocos de código com base na primeira condição verdadeira encontrada."
      ]
    },
    {
      "cell_type": "code",
      "execution_count": null,
      "metadata": {
        "id": "_vbhLeBqYGsS"
      },
      "outputs": [],
      "source": [
        "nota = float(input(\"Digite sua nota em Programação de Computadores I:\"))\n",
        "if nota >= 90:\n",
        "    print(\"Parabéns! Você tirou A.\")\n",
        "elif nota >= 80:\n",
        "    print(\"Você tirou B.\")\n",
        "elif nota >= 70:\n",
        "    print(\"Você tirou C.\")\n",
        "else:\n",
        "    print(\"Infelizmente, você tirou D.\")\n"
      ]
    },
    {
      "cell_type": "markdown",
      "metadata": {
        "id": "DXeeFL2KZTRR"
      },
      "source": [
        "No exemplo do programa fatorial utilizando recursão, foi utilizado o operador ternário. O operador ternário é uma forma concisa de escrever uma estrutura de controle condicional com apenas uma linha. Ele retorna um valor com base em uma condição."
      ]
    },
    {
      "cell_type": "code",
      "execution_count": null,
      "metadata": {
        "id": "Ne1EDnCmZeXr"
      },
      "outputs": [],
      "source": [
        "idade = 20\n",
        "status = \"Maior de idade\" if idade >= 18 else \"Menor de idade\"\n",
        "print(status)\n"
      ]
    },
    {
      "cell_type": "markdown",
      "metadata": {
        "id": "srUQQn7caVUQ"
      },
      "source": [
        "Escreva um programa que solicite ao usuário os comprimentos dos lados de um triângulo e verifique se é possível formar um triângulo com esses lados. Se for possível, exiba a classificação do triângulo com base nos lados (equilátero, isósceles ou escaleno). Para formar um triângulo, a soma de quaisquer dois lados deve ser maior do que o terceiro lado. Um triângulo é considerado escaleno quando todos os seus lados têm comprimentos diferentes. Já um triângulo é considerado isósceles quando possui dois lados com o mesmo comprimento e um terceiro lado com comprimento diferente."
      ]
    },
    {
      "cell_type": "code",
      "execution_count": 12,
      "metadata": {
        "id": "5siRbninoClI"
      },
      "outputs": [
        {
          "name": "stdout",
          "output_type": "stream",
          "text": [
            "Não é possível formar um triângulo com esses lados\n"
          ]
        }
      ],
      "source": [
        "ladoA, ladoB, ladoC=map(float, input(\"Informe os 3 lados de um triângulo\").split())\n",
        "if ladoA + ladoB > ladoC and ladoA + ladoC > ladoB and ladoB + ladoC >  ladoA:\n",
        "    print(\"É possível formar um triângulo com esses lados\")\n",
        "    if ladoA == ladoB == ladoC:\n",
        "        print(\"Esse é um triângulo equilátero\")\n",
        "    elif ladoA == ladoB or ladoA == ladoC or ladoB == ladoC:\n",
        "        print(\"Esse é um triângulo isóceles\")\n",
        "    else:\n",
        "        print(\"Esse é um triângulo escaleno\")\n",
        "else:\n",
        "    print(\"Não é possível formar um triângulo com esses lados\")"
      ]
    },
    {
      "cell_type": "markdown",
      "metadata": {
        "id": "5Dk_aUhDbR0s"
      },
      "source": [
        "Escreva um programa para ler um número inteiro e verificar se o mesmo é par ou ímpar. Pesquisar funções caso seja necessário."
      ]
    },
    {
      "cell_type": "code",
      "execution_count": 16,
      "metadata": {
        "id": "vZvl0tV7oEk4"
      },
      "outputs": [
        {
          "name": "stdout",
          "output_type": "stream",
          "text": [
            "O número 15 é ímpar\n"
          ]
        }
      ],
      "source": [
        "numero = int(input(\"Digite um número inteiro: \"))\n",
        "if numero / 2 == 0:\n",
        "    print(f\"O número {numero} é par\")\n",
        "else:\n",
        "    print(f\"O número {numero} é ímpar\")"
      ]
    },
    {
      "cell_type": "markdown",
      "metadata": {
        "id": "NuPfgLIybab4"
      },
      "source": [
        "# Estruturas de Repetição\n",
        "**While:**\n",
        "O while é uma estrutura de repetição que executa um bloco de código enquanto uma condição for verdadeira."
      ]
    },
    {
      "cell_type": "code",
      "execution_count": null,
      "metadata": {
        "id": "f4_O8GoTbpyZ"
      },
      "outputs": [],
      "source": [
        "contador = 0\n",
        "while contador < 5:\n",
        "    print(contador)\n",
        "    contador += 1\n"
      ]
    },
    {
      "cell_type": "markdown",
      "metadata": {
        "id": "zaamibLIbtGo"
      },
      "source": [
        "***For: ***\n",
        "O for é uma estrutura de repetição usada para percorrer sequências, como listas, tuplas ou strings."
      ]
    },
    {
      "cell_type": "code",
      "execution_count": null,
      "metadata": {
        "id": "wCBh9HWlb1xz"
      },
      "outputs": [],
      "source": [
        "lista = [1, 2, 3, 4, 5]\n",
        "for elemento in lista:\n",
        "    print(elemento)\n"
      ]
    },
    {
      "cell_type": "markdown",
      "metadata": {
        "id": "uVa6pAbFcHuY"
      },
      "source": [
        "A instrução break é usada para interromper o loop antes que a condição seja falsa. Quando o break é executado, o loop é encerrado imediatamente."
      ]
    },
    {
      "cell_type": "code",
      "execution_count": null,
      "metadata": {
        "id": "G2ayBpgVcKFO"
      },
      "outputs": [],
      "source": [
        "contador = 0\n",
        "while True:\n",
        "    print(contador)\n",
        "    contador += 1\n",
        "    if contador >= 5:\n",
        "        break\n"
      ]
    },
    {
      "cell_type": "markdown",
      "metadata": {
        "id": "Go5WpYQgcOm4"
      },
      "source": [
        "A instrução continue é usada para pular para a próxima iteração do loop sem executar o restante do código no loop."
      ]
    },
    {
      "cell_type": "code",
      "execution_count": null,
      "metadata": {
        "id": "sBCVALT-cQMT"
      },
      "outputs": [],
      "source": [
        "for i in range(1, 6, 2):\n",
        "    if i == 3:\n",
        "        continue\n",
        "    print(i)\n"
      ]
    },
    {
      "cell_type": "markdown",
      "metadata": {
        "id": "lT_vNAN_chdO"
      },
      "source": [
        "Escreva um programa que solicite ao usuário um número inteiro positivo e calcule a soma de todos os números pares de 1 até esse número."
      ]
    },
    {
      "cell_type": "markdown",
      "metadata": {
        "id": "EzzCJeGxdhne"
      },
      "source": [
        "# Funções em Python\n",
        "Trabalhar com funções é fundamental, pois elas permitem agrupar um conjunto de instruções em um bloco reutilizável, tornando o código mais organizado e modular. Para definir uma função em Python, utilizamos a palavra-chave def, seguida do nome da função, uma lista de parâmetros entre parênteses e o caractere de dois pontos :. O corpo da função é indentado abaixo da declaração. Para chamar (ou invocar) uma função, basta digitar o nome da função seguido por parênteses, contendo os argumentos (se houver) que a função espera. Se a função não tiver argumentos, os parênteses ainda devem ser incluídos."
      ]
    },
    {
      "cell_type": "code",
      "execution_count": null,
      "metadata": {
        "id": "Z4KLkbb4eAnm"
      },
      "outputs": [],
      "source": [
        "def somar(a, b):\n",
        "    return a + b\n",
        "\n",
        "resultado = somar(2, 3)\n",
        "print(resultado)  # Saída: 5\n"
      ]
    },
    {
      "cell_type": "markdown",
      "metadata": {
        "id": "LbNlRFLAeFGW"
      },
      "source": [
        "***Função Lambda: ***\n",
        "m Python, a função lambda é uma forma concisa de criar funções anônimas de uma única linha. Elas também são conhecidas como funções lambda ou funções de expressão lambda. Diferente das funções comuns, as funções lambda não possuem um nome associado e geralmente são utilizadas em situações onde a função é usada apenas uma vez ou em contextos em que funções pequenas e simples são necessárias."
      ]
    },
    {
      "cell_type": "code",
      "execution_count": null,
      "metadata": {
        "id": "Hn6LrTjdeRTn"
      },
      "outputs": [],
      "source": [
        "# Função lambda que retorna o quadrado de um número\n",
        "quadrado = lambda x: x ** 2\n",
        "print(type(quadrado))\n",
        "# Usando a função lambda\n",
        "resultado = quadrado(5)\n",
        "print(resultado)  # Saída: 25\n"
      ]
    },
    {
      "cell_type": "code",
      "execution_count": null,
      "metadata": {
        "id": "9vnMJ-xZy_UD"
      },
      "outputs": [],
      "source": [
        "def quadrado(x):\n",
        "    return x ** 2\n",
        "# Usando a função lambda\n",
        "resultado = quadrado(5)\n",
        "print(resultado)  # Saída: 25"
      ]
    },
    {
      "cell_type": "markdown",
      "metadata": {
        "id": "-XsJ-jcneijK"
      },
      "source": [
        "# Funções populares em Python"
      ]
    },
    {
      "cell_type": "code",
      "execution_count": null,
      "metadata": {
        "id": "8e0K7Y8-emeu"
      },
      "outputs": [],
      "source": [
        "import math\n",
        "print(type(math))\n",
        "numero = 25\n",
        "raiz_quadrada = math.sqrt(numero)\n",
        "print(f\"A raiz quadrada de {numero} é: {raiz_quadrada}\")\n"
      ]
    },
    {
      "cell_type": "code",
      "execution_count": null,
      "metadata": {
        "id": "ExQw2lyse-qx"
      },
      "outputs": [],
      "source": [
        "import random\n",
        "\n",
        "numero_aleatorio = random.randint(1, 100)\n",
        "print(numero_aleatorio)\n"
      ]
    },
    {
      "cell_type": "code",
      "execution_count": null,
      "metadata": {
        "id": "gc5cXolvfCKN"
      },
      "outputs": [],
      "source": [
        "import random\n",
        "\n",
        "numero_aleatorio = random.random()\n",
        "print(numero_aleatorio)\n",
        "\n",
        "numero_aleatorio_intervalo = random.uniform(10, 20)\n",
        "print(numero_aleatorio_intervalo)\n"
      ]
    },
    {
      "cell_type": "code",
      "execution_count": null,
      "metadata": {
        "id": "R1m5u7VNfHUp"
      },
      "outputs": [],
      "source": [
        "import random\n",
        "\n",
        "lista = [1, 2, 3, 4, 5]\n",
        "elemento_aleatorio = random.choice(lista)\n",
        "print(elemento_aleatorio)\n"
      ]
    },
    {
      "cell_type": "code",
      "execution_count": null,
      "metadata": {
        "id": "CzNZcH28fLbN"
      },
      "outputs": [],
      "source": [
        "import random\n",
        "\n",
        "lista = [1, 2, 3, 4, 5]\n",
        "random.shuffle(lista)\n",
        "print(lista)\n"
      ]
    },
    {
      "cell_type": "code",
      "execution_count": null,
      "metadata": {
        "id": "Lh2UW6Nyfle_"
      },
      "outputs": [],
      "source": [
        "numeros = [3, 1, 4, 1, 5, 9, 2, 6, 5, 3, 5]\n",
        "numeros_ordenados = sorted(numeros)\n",
        "print(numeros_ordenados)\n"
      ]
    },
    {
      "cell_type": "code",
      "execution_count": null,
      "metadata": {
        "id": "5137gam7fo5b"
      },
      "outputs": [],
      "source": [
        "palavras = [\"banana\", \"maçã\", \"laranja\", \"abacaxi\"]\n",
        "palavras_ordenadas = sorted(palavras, key=len)\n",
        "print(palavras_ordenadas)\n"
      ]
    },
    {
      "cell_type": "markdown",
      "metadata": {
        "id": "OThWXkG0fy3H"
      },
      "source": [
        "Faça um programa para calcular as raízes de uma equação de segundo grau."
      ]
    },
    {
      "cell_type": "code",
      "execution_count": null,
      "metadata": {
        "id": "-PN-qk3W2EXE"
      },
      "outputs": [],
      "source": []
    },
    {
      "cell_type": "markdown",
      "metadata": {
        "id": "T8Sn8zd_f4to"
      },
      "source": [
        "Faça um programa para ler os catetos e calcular a hipotenusa."
      ]
    },
    {
      "cell_type": "code",
      "execution_count": null,
      "metadata": {
        "id": "J1sybch4lrgU"
      },
      "outputs": [],
      "source": []
    },
    {
      "cell_type": "markdown",
      "metadata": {
        "id": "7l-h1B4RH6t9"
      },
      "source": [
        "# Estruturas de Dados em Python\n",
        "Em Python, existem quatro tipos principais de estruturas de dados que permitem armazenar e organizar coleções de valores: listas, tuplas, conjuntos e dicionários. Cada uma delas tem suas características e finalidades específicas.\n",
        "\n",
        "1. Listas:\n",
        "\n",
        "* Listas são coleções ordenadas e mutáveis de valores.\n",
        "* Podem conter elementos de diferentes tipos.\n",
        "* São definidas utilizando colchetes [].\n",
        "nomes = [\"Alice\", \"Bob\", \"Carol\", \"David\"]"
      ]
    },
    {
      "cell_type": "code",
      "execution_count": null,
      "metadata": {
        "id": "-hHRYBD7IXaO"
      },
      "outputs": [],
      "source": [
        "nomes = [\"Alice\", \"Bob\", \"Carol\", \"David\"]\n",
        "print(nomes)"
      ]
    },
    {
      "cell_type": "markdown",
      "metadata": {
        "id": "NAGAe5g7InIY"
      },
      "source": [
        "Usamos índices (começando de 0) para acessar elementos individuais em uma lista."
      ]
    },
    {
      "cell_type": "code",
      "execution_count": null,
      "metadata": {
        "id": "fHkSr-fwIeUT"
      },
      "outputs": [],
      "source": [
        "print(nomes[0])"
      ]
    },
    {
      "cell_type": "markdown",
      "metadata": {
        "id": "b4VMUSkwI16y"
      },
      "source": [
        "Adicionar elementos: Utilize o método append() para adicionar um elemento ao final da lista."
      ]
    },
    {
      "cell_type": "code",
      "execution_count": null,
      "metadata": {
        "colab": {
          "base_uri": "https://localhost:8080/"
        },
        "id": "8qFkPifCI3JV",
        "outputId": "dbe73b27-c06c-4900-cee5-97386182830b"
      },
      "outputs": [
        {
          "name": "stdout",
          "output_type": "stream",
          "text": [
            "['Alice', 'Bob', 'Carol', 'David', 'Edward']\n"
          ]
        }
      ],
      "source": [
        "nomes.append(\"Edward\")\n",
        "print(nomes)"
      ]
    },
    {
      "cell_type": "markdown",
      "metadata": {
        "id": "M_1tkZrtJDHj"
      },
      "source": [
        "Remover elementos: Utilize remove() para remover um elemento específico pelo valor, ou pop() para remover um elemento pelo índice."
      ]
    },
    {
      "cell_type": "code",
      "execution_count": null,
      "metadata": {
        "id": "J8J20AqwJEbA"
      },
      "outputs": [],
      "source": [
        "nomes.remove(\"Bob\")\n",
        "print(nomes)"
      ]
    },
    {
      "cell_type": "code",
      "execution_count": null,
      "metadata": {
        "id": "ZBMRbuMPJO7V"
      },
      "outputs": [],
      "source": [
        "nomes.pop(1)\n",
        "print(nomes)"
      ]
    },
    {
      "cell_type": "markdown",
      "metadata": {
        "id": "6S5HA5UhJLg3"
      },
      "source": [
        "Atualizar elementos: Atribua um novo valor a um índice específico."
      ]
    },
    {
      "cell_type": "code",
      "execution_count": null,
      "metadata": {
        "id": "gEprks9hJb-v"
      },
      "outputs": [],
      "source": [
        "nomes[0] = \"Alicia\"\n",
        "print(nomes)"
      ]
    },
    {
      "cell_type": "markdown",
      "metadata": {
        "id": "ZJbuiEgnJiVx"
      },
      "source": [
        "2. Tuplas:\n",
        "* Tuplas são coleções ordenadas e imutáveis de valores.\n",
        "*Geralmente usadas para armazenar elementos relacionados.\n",
        "* São definidas utilizando parênteses ().\n",
        "\n",
        "Acesso a Elementos:\n",
        "\n",
        "Assim como nas listas, usamos índices para acessar elementos em tuplas."
      ]
    },
    {
      "cell_type": "code",
      "execution_count": null,
      "metadata": {
        "id": "JAT58QaUJnQi"
      },
      "outputs": [],
      "source": [
        "coordenadas = (10, 20)\n",
        "print(coordenadas[0])\n",
        "print(coordenadas[1])\n",
        "print(coordenadas)"
      ]
    },
    {
      "cell_type": "markdown",
      "metadata": {
        "id": "1Dk5shaXJz-N"
      },
      "source": [
        "Manipulação de Elementos:\n",
        "\n",
        "Como as tuplas são imutáveis, não é possível adicionar ou remover elementos após a criação.\n",
        "No entanto, você pode reatribuir uma tupla inteira para alterar seus elementos."
      ]
    },
    {
      "cell_type": "markdown",
      "metadata": {
        "id": "i0B6DRlLKR87"
      },
      "source": [
        "3. Conjuntos:\n",
        "\n",
        "* Conjuntos são coleções não ordenadas e mutáveis de valores únicos.\n",
        "* Não permitem duplicatas.\n",
        "* São definidos utilizando chaves {} ou a função set()."
      ]
    },
    {
      "cell_type": "code",
      "execution_count": null,
      "metadata": {
        "id": "1yVQfFXNK9we"
      },
      "outputs": [],
      "source": [
        "numeros = {1, 2, 3, 4, 5}\n",
        "print(numeros)\n"
      ]
    },
    {
      "cell_type": "markdown",
      "metadata": {
        "id": "FZ8pb2C4LTW8"
      },
      "source": [
        "Acesso a Elementos:\n",
        "\n",
        "* Devido à natureza não ordenada dos conjuntos, não é possível acessar elementos por índices.\n",
        "\n",
        "Manipulação de Elementos:\n",
        "\n",
        "Adicionar elementos: Use add() para adicionar um elemento ao conjunto."
      ]
    },
    {
      "cell_type": "code",
      "execution_count": null,
      "metadata": {
        "id": "dn-aH2eXLXsx"
      },
      "outputs": [],
      "source": [
        "numeros.add(6)\n",
        "print(numeros)"
      ]
    },
    {
      "cell_type": "markdown",
      "metadata": {
        "id": "pSeP0VAoLx-J"
      },
      "source": [
        "Remover elementos:\n",
        "\n",
        "Utilize remove() para remover um elemento específico ou discard() para remover sem gerar erro se o elemento não existir."
      ]
    },
    {
      "cell_type": "code",
      "execution_count": null,
      "metadata": {
        "id": "pdxdwRpQL5cG"
      },
      "outputs": [],
      "source": [
        "numeros.remove(1)\n",
        "numeros.discard(6)\n",
        "print(numeros)"
      ]
    },
    {
      "cell_type": "markdown",
      "metadata": {
        "id": "q2jegj_zMI5M"
      },
      "source": [
        "4. Dicionários:\n",
        "\n",
        "* Dicionários são coleções não ordenadas de pares chave-valor.\n",
        "* Cada valor é acessado por meio de sua chave, que deve ser única.\n",
        "* São definidos utilizando chaves {} e pares chave-valor separados por :.\n"
      ]
    },
    {
      "cell_type": "code",
      "execution_count": null,
      "metadata": {
        "id": "V2ea8mDTMQ33"
      },
      "outputs": [],
      "source": [
        "contatos = {\"Alice\": \"alice@example.com\", \"Bob\": \"bob@example.com\"}\n",
        "print (contatos[\"Bob\"])"
      ]
    },
    {
      "cell_type": "markdown",
      "metadata": {
        "id": "zNfXFWbxMbQM"
      },
      "source": [
        "Manipulação de Elementos:\n",
        "\n",
        "Adicionar elementos: Atribua um valor a uma nova chave."
      ]
    },
    {
      "cell_type": "code",
      "execution_count": null,
      "metadata": {
        "id": "RPMB4FDiQeD3"
      },
      "outputs": [],
      "source": [
        "contatos[\"Carol\"] = \"carol@example.com\"\n",
        "print(contatos)"
      ]
    },
    {
      "cell_type": "markdown",
      "metadata": {
        "id": "H-6tUJaAQjrr"
      },
      "source": [
        "Remover elementos:\n",
        "\n",
        "Utilize pop() com a chave ou del para remover um par chave-valor."
      ]
    },
    {
      "cell_type": "code",
      "execution_count": null,
      "metadata": {
        "id": "vAeb_2eoQtyS"
      },
      "outputs": [],
      "source": [
        "email_bob = contatos.pop(\"Bob\")\n",
        "del contatos[\"Alice\"]\n",
        "print(contatos)"
      ]
    },
    {
      "cell_type": "markdown",
      "metadata": {
        "id": "WLasEJXcQzk6"
      },
      "source": [
        "Atualizar elementos:\n",
        "\n",
        "Atribua um novo valor a uma chave existente."
      ]
    },
    {
      "cell_type": "code",
      "execution_count": null,
      "metadata": {
        "id": "2vDn2MIhQ6ek"
      },
      "outputs": [],
      "source": [
        "contatos[\"Carol\"] = \"new_carol@example.com\"\n",
        "print(contatos)"
      ]
    },
    {
      "cell_type": "markdown",
      "metadata": {
        "id": "z_UcTFSoRZwh"
      },
      "source": [
        "Exercício Listas\n",
        "\n",
        "Inicialize uma lista de 20 números inteiros. Armazene\n",
        "os números pares em uma lista PAR e os números\n",
        "ímpares em uma lista IMPAR. Imprima as listas PAR\n",
        "e IMPAR."
      ]
    },
    {
      "cell_type": "code",
      "execution_count": null,
      "metadata": {
        "id": "tHOtigqsSILJ"
      },
      "outputs": [],
      "source": []
    },
    {
      "cell_type": "markdown",
      "metadata": {
        "id": "I9dIrG4KSG8q"
      },
      "source": [
        "Exercício Tuplas\n",
        "\n",
        "Crie uma tupla com nomes de frutas e realize as seguintes operações:\n",
        "\n",
        "* Acesse o segundo elemento da tupla.\n",
        "* Tente modificar o primeiro elemento (isso deve gerar um erro).\n",
        "* Verifique o comprimento da tupla."
      ]
    },
    {
      "cell_type": "code",
      "execution_count": null,
      "metadata": {
        "id": "-QOnrVk6Shvd"
      },
      "outputs": [],
      "source": []
    },
    {
      "cell_type": "markdown",
      "metadata": {
        "id": "pnwOSCVCSiAm"
      },
      "source": [
        "Exercício Conjuntos\n",
        "\n",
        "Crie dois conjuntos com números inteiros e realize as seguintes operações:\n",
        "\n",
        "* Realize a união dos dois conjuntos.\n",
        "* Realize a interseção dos dois conjuntos.\n",
        "* Adicione um novo número a um dos conjuntos.\n",
        "* Remova um número de um dos conjuntos."
      ]
    },
    {
      "cell_type": "code",
      "execution_count": null,
      "metadata": {
        "id": "YFRvYK6KS6Ge"
      },
      "outputs": [],
      "source": []
    },
    {
      "cell_type": "markdown",
      "metadata": {
        "id": "MvtUDCJTSrlC"
      },
      "source": [
        "Exercício Dicionários\n",
        "\n",
        "Crie um dicionário com palavras e suas respectivas definições. Realize as seguintes operações:\n",
        "\n",
        "* Acesse a definição de uma palavra.\n",
        "* Adicione uma nova palavra ao dicionário.\n",
        "* Modifique a definição de uma palavra existente.\n",
        "* Remova uma palavra do dicionário."
      ]
    },
    {
      "cell_type": "code",
      "execution_count": null,
      "metadata": {
        "id": "1_bAQn_Wo4kW"
      },
      "outputs": [],
      "source": []
    }
  ],
  "metadata": {
    "colab": {
      "provenance": []
    },
    "kernelspec": {
      "display_name": ".venv",
      "language": "python",
      "name": "python3"
    },
    "language_info": {
      "codemirror_mode": {
        "name": "ipython",
        "version": 3
      },
      "file_extension": ".py",
      "mimetype": "text/x-python",
      "name": "python",
      "nbconvert_exporter": "python",
      "pygments_lexer": "ipython3",
      "version": "3.13.0"
    }
  },
  "nbformat": 4,
  "nbformat_minor": 0
}
